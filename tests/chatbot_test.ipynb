{
 "cells": [
  {
   "cell_type": "markdown",
   "metadata": {},
   "source": [
    "# Chatbots"
   ]
  },
  {
   "cell_type": "markdown",
   "metadata": {},
   "source": [
    "## Chat com Gemini"
   ]
  },
  {
   "cell_type": "markdown",
   "metadata": {},
   "source": [
    "### Chat da Aula"
   ]
  },
  {
   "cell_type": "code",
   "execution_count": 1,
   "metadata": {},
   "outputs": [
    {
     "name": "stderr",
     "output_type": "stream",
     "text": [
      "c:\\Users\\giueg\\.virtualenvs\\AI_Google_Alura-W0T8AVgP\\Lib\\site-packages\\tqdm\\auto.py:21: TqdmWarning: IProgress not found. Please update jupyter and ipywidgets. See https://ipywidgets.readthedocs.io/en/stable/user_install.html\n",
      "  from .autonotebook import tqdm as notebook_tqdm\n"
     ]
    }
   ],
   "source": [
    "import google.generativeai as genai\n",
    "from dotenv import load_dotenv\n",
    "import os\n",
    "\n",
    "load_dotenv(override=True)\n",
    "GOOGLE_API_KEY = os.getenv(\"GOOGLE_API_KEY\")\n",
    "\n",
    "genai.configure(api_key=GOOGLE_API_KEY)"
   ]
  },
  {
   "cell_type": "code",
   "execution_count": 2,
   "metadata": {},
   "outputs": [
    {
     "name": "stdout",
     "output_type": "stream",
     "text": [
      "models/gemini-1.0-pro-vision-latest\n",
      "models/gemini-pro-vision\n",
      "models/gemini-1.5-pro-latest\n",
      "models/gemini-1.5-pro-001\n",
      "models/gemini-1.5-pro-002\n",
      "models/gemini-1.5-pro\n",
      "models/gemini-1.5-flash-latest\n",
      "models/gemini-1.5-flash-001\n",
      "models/gemini-1.5-flash-001-tuning\n",
      "models/gemini-1.5-flash\n",
      "models/gemini-1.5-flash-002\n",
      "models/gemini-1.5-flash-8b\n",
      "models/gemini-1.5-flash-8b-001\n",
      "models/gemini-1.5-flash-8b-latest\n",
      "models/gemini-1.5-flash-8b-exp-0827\n",
      "models/gemini-1.5-flash-8b-exp-0924\n",
      "models/gemini-2.0-flash-exp\n",
      "models/gemini-2.0-flash\n",
      "models/gemini-2.0-flash-001\n",
      "models/gemini-2.0-flash-lite-001\n",
      "models/gemini-2.0-flash-lite\n",
      "models/gemini-2.0-flash-lite-preview-02-05\n",
      "models/gemini-2.0-flash-lite-preview\n",
      "models/gemini-2.0-pro-exp\n",
      "models/gemini-2.0-pro-exp-02-05\n",
      "models/gemini-exp-1206\n",
      "models/gemini-2.0-flash-thinking-exp-01-21\n",
      "models/gemini-2.0-flash-thinking-exp\n",
      "models/gemini-2.0-flash-thinking-exp-1219\n",
      "models/learnlm-1.5-pro-experimental\n",
      "models/gemma-3-27b-it\n"
     ]
    }
   ],
   "source": [
    "for i in genai.list_models():\n",
    "    if 'generateContent' in i.supported_generation_methods:\n",
    "        print(i.name)\n",
    "\n",
    "# for i in genai.list_models():\n",
    "#     print(i.name)"
   ]
  },
  {
   "cell_type": "code",
   "execution_count": 3,
   "metadata": {},
   "outputs": [],
   "source": [
    "katron = genai.GenerativeModel(model_name=\"gemini-1.5-pro\")"
   ]
  },
  {
   "cell_type": "code",
   "execution_count": 4,
   "metadata": {},
   "outputs": [
    {
     "name": "stdout",
     "output_type": "stream",
     "text": [
      "response:\n",
      "GenerateContentResponse(\n",
      "    done=True,\n",
      "    iterator=None,\n",
      "    result=protos.GenerateContentResponse({\n",
      "      \"candidates\": [\n",
      "        {\n",
      "          \"content\": {\n",
      "            \"parts\": [\n",
      "              {\n",
      "                \"text\": \"A quest\\u00e3o do sentido da vida \\u00e9 uma das mais antigas e complexas da humanidade. N\\u00e3o existe uma resposta \\u00fanica e definitiva, e diferentes pessoas encontram significado em diferentes coisas. Algumas das perspectivas mais comuns incluem:\\n\\n**Perspectivas Filos\\u00f3ficas:**\\n\\n* **Nihilismo:** Acredita que a vida \\u00e9 inerentemente sem sentido objetivo.  Qualquer sentido atribu\\u00eddo a ela \\u00e9 constru\\u00eddo pelo pr\\u00f3prio indiv\\u00edduo.\\n* **Existencialismo:** Enfatiza a liberdade individual e a responsabilidade de criar o pr\\u00f3prio sentido da vida.  A exist\\u00eancia precede a ess\\u00eancia.\\n* **Absurdismo:** Reconhece o conflito entre a busca humana por sentido e a aparente falta de sentido no universo. Encontrar significado reside em abra\\u00e7ar esse absurdo.\\n* **Hedonismo:** Busca o prazer e a felicidade como o prop\\u00f3sito principal da vida.\\n* **Estoicismo:** Encontrar sentido na virtude, na raz\\u00e3o e na aceita\\u00e7\\u00e3o do que n\\u00e3o podemos controlar.\\n* **Utilitarismo:** Maximizar a felicidade e o bem-estar para o maior n\\u00famero de pessoas.\\n\\n**Perspectivas Religiosas:**\\n\\nMuitas religi\\u00f5es oferecem respostas sobre o sentido da vida, frequentemente relacionadas a um prop\\u00f3sito divino, \\u00e0 busca da ilumina\\u00e7\\u00e3o espiritual ou ao servi\\u00e7o a Deus ou a uma comunidade.  O sentido pode estar em seguir os preceitos religiosos, alcan\\u00e7ar a salva\\u00e7\\u00e3o ou servir a um prop\\u00f3sito maior.\\n\\n**Perspectivas Cient\\u00edficas:**\\n\\nA ci\\u00eancia geralmente n\\u00e3o aborda diretamente a quest\\u00e3o do sentido da vida, focando em descrever e explicar o mundo natural. No entanto, a ci\\u00eancia pode fornecer insights sobre a nossa origem, evolu\\u00e7\\u00e3o e lugar no universo, o que pode influenciar a nossa compreens\\u00e3o do sentido da vida.  Alguns encontram sentido em contribuir para o conhecimento cient\\u00edfico e a compreens\\u00e3o do universo.\\n\\n**Perspectivas Pessoais:**\\n\\nEm \\u00faltima an\\u00e1lise, o sentido da vida \\u00e9 frequentemente uma constru\\u00e7\\u00e3o pessoal.  Muitos encontram significado em:\\n\\n* **Relacionamentos:** Amor, fam\\u00edlia e amizade.\\n* **Contribui\\u00e7\\u00e3o:** Fazer a diferen\\u00e7a no mundo, ajudar os outros.\\n* **Crescimento pessoal:** Aprender, desenvolver habilidades e se tornar a melhor vers\\u00e3o de si mesmo.\\n* **Experi\\u00eancias:** Viver a vida ao m\\u00e1ximo, explorar o mundo e buscar novas experi\\u00eancias.\\n* **Criatividade:** Expressar-se atrav\\u00e9s da arte, m\\u00fasica, escrita ou outras formas de criatividade.\\n* **Prop\\u00f3sito:** Dedicar-se a uma causa ou objetivo maior do que si mesmo.\\n\\nEm vez de procurar uma resposta universal, talvez seja mais \\u00fatil se perguntar: **\\\"Qual o sentido *da minha* vida?\\\"**  A resposta provavelmente evoluir\\u00e1 ao longo da sua vida, \\u00e0 medida que voc\\u00ea cresce, aprende e muda.  O importante \\u00e9 refletir sobre o que te motiva, o que te traz alegria e o que te faz sentir conectado com algo maior do que voc\\u00ea mesmo.\\n\"\n",
      "              }\n",
      "            ],\n",
      "            \"role\": \"model\"\n",
      "          },\n",
      "          \"finish_reason\": \"STOP\",\n",
      "          \"avg_logprobs\": -0.1539888225617956\n",
      "        }\n",
      "      ],\n",
      "      \"usage_metadata\": {\n",
      "        \"prompt_token_count\": 6,\n",
      "        \"candidates_token_count\": 610,\n",
      "        \"total_token_count\": 616\n",
      "      },\n",
      "      \"model_version\": \"gemini-1.5-pro-002\"\n",
      "    }),\n",
      ")\n"
     ]
    }
   ],
   "source": [
    "prompt_test = \"Qual o sentido da vida?\"\n",
    "response_test = katron.generate_content(prompt_test)\n",
    "print(response_test)"
   ]
  },
  {
   "cell_type": "code",
   "execution_count": 19,
   "metadata": {},
   "outputs": [
    {
     "name": "stdout",
     "output_type": "stream",
     "text": [
      "Hi there! How can I help you today?\n",
      "\n",
      "🎺🎺🎺🎺 *And his name is... JOHN CENA!* 🎺🎺🎺🎺\n",
      "\n",
      "(I couldn't resist.  Is there anything I can do for you, John?)\n",
      "\n",
      "I don't \"cloud tectaech\" (I assume you mean cloud tech) to fight. I'm a language model, not a physical being.  I don't have a body, let alone the ability to fight.  I exist only as code and data on computers.  My purpose is to help people with information and tasks related to language, such as writing, translation, and answering questions.\n",
      "\n",
      "I can, however, access and process information about fighting techniques and strategies from the real world. I can tell you about different martial arts, military tactics, or even the history of boxing, if you're interested.  Just let me know what you'd like to learn about!\n",
      "\n",
      "Ah, I understand!  Unfortunately, I can't *teach* you how to fight.  I can't give real-time feedback or physical instruction, which are essential for learning any fighting style.\n",
      "\n",
      "However, I can offer some resources that could help you get started:\n",
      "\n",
      "* **Look for local martial arts schools:**  Do some research online or ask around your community for reputable dojos or gyms.  Different martial arts styles offer different benefits, so consider what you're looking for (self-defense, fitness, competition, etc.).\n",
      "* **Online resources:** There are many online tutorials and videos demonstrating various techniques.  However, be cautious about the quality and credibility of these resources.  It's always best to learn from a qualified instructor in person.\n",
      "* **Books and articles:** You can find a wealth of information on fighting techniques and strategies in books and articles.  Look for reputable sources written by experts in the field.\n",
      "\n",
      "Learning to fight effectively requires dedication, discipline, and proper guidance.  Finding a qualified instructor is crucial for safe and effective training.  Good luck!\n",
      "\n"
     ]
    }
   ],
   "source": [
    "chat = katron.start_chat(history=[])\n",
    "\n",
    "prompt = input(\"Whats up?\")\n",
    "\n",
    "while prompt != \"exit\":\n",
    "    response = chat.send_message(prompt)\n",
    "    print(response.text)\n",
    "    prompt = input(\"Anymore else?\")"
   ]
  },
  {
   "cell_type": "code",
   "execution_count": 20,
   "metadata": {},
   "outputs": [
    {
     "data": {
      "text/plain": [
       "[parts {\n",
       "   text: \"hi\"\n",
       " }\n",
       " role: \"user\",\n",
       " parts {\n",
       "   text: \"Hi there! How can I help you today?\\n\"\n",
       " }\n",
       " role: \"model\",\n",
       " parts {\n",
       "   text: \"my name is johnnn cenaaaa\"\n",
       " }\n",
       " role: \"user\",\n",
       " parts {\n",
       "   text: \"🎺🎺🎺🎺 *And his name is... JOHN CENA!* 🎺🎺🎺🎺\\n\\n(I couldn\\'t resist.  Is there anything I can do for you, John?)\\n\"\n",
       " }\n",
       " role: \"model\",\n",
       " parts {\n",
       "   text: \"do you cloud tectaech to fight ?\"\n",
       " }\n",
       " role: \"user\",\n",
       " parts {\n",
       "   text: \"I don\\'t \\\"cloud tectaech\\\" (I assume you mean cloud tech) to fight. I\\'m a language model, not a physical being.  I don\\'t have a body, let alone the ability to fight.  I exist only as code and data on computers.  My purpose is to help people with information and tasks related to language, such as writing, translation, and answering questions.\\n\\nI can, however, access and process information about fighting techniques and strategies from the real world. I can tell you about different martial arts, military tactics, or even the history of boxing, if you\\'re interested.  Just let me know what you\\'d like to learn about!\\n\"\n",
       " }\n",
       " role: \"model\",\n",
       " parts {\n",
       "   text: \"I want to say teache to fight\"\n",
       " }\n",
       " role: \"user\",\n",
       " parts {\n",
       "   text: \"Ah, I understand!  Unfortunately, I can\\'t *teach* you how to fight.  I can\\'t give real-time feedback or physical instruction, which are essential for learning any fighting style.\\n\\nHowever, I can offer some resources that could help you get started:\\n\\n* **Look for local martial arts schools:**  Do some research online or ask around your community for reputable dojos or gyms.  Different martial arts styles offer different benefits, so consider what you\\'re looking for (self-defense, fitness, competition, etc.).\\n* **Online resources:** There are many online tutorials and videos demonstrating various techniques.  However, be cautious about the quality and credibility of these resources.  It\\'s always best to learn from a qualified instructor in person.\\n* **Books and articles:** You can find a wealth of information on fighting techniques and strategies in books and articles.  Look for reputable sources written by experts in the field.\\n\\nLearning to fight effectively requires dedication, discipline, and proper guidance.  Finding a qualified instructor is crucial for safe and effective training.  Good luck!\\n\"\n",
       " }\n",
       " role: \"model\"]"
      ]
     },
     "execution_count": 20,
     "metadata": {},
     "output_type": "execute_result"
    }
   ],
   "source": [
    "chat.history"
   ]
  },
  {
   "cell_type": "code",
   "execution_count": 21,
   "metadata": {},
   "outputs": [
    {
     "data": {
      "text/markdown": [
       "> **user**: hi"
      ],
      "text/plain": [
       "<IPython.core.display.Markdown object>"
      ]
     },
     "metadata": {},
     "output_type": "display_data"
    },
    {
     "name": "stdout",
     "output_type": "stream",
     "text": [
      "-------------------------------------------\n"
     ]
    },
    {
     "data": {
      "text/markdown": [
       "> **model**: Hi there! How can I help you today?\n"
      ],
      "text/plain": [
       "<IPython.core.display.Markdown object>"
      ]
     },
     "metadata": {},
     "output_type": "display_data"
    },
    {
     "name": "stdout",
     "output_type": "stream",
     "text": [
      "-------------------------------------------\n"
     ]
    },
    {
     "data": {
      "text/markdown": [
       "> **user**: my name is johnnn cenaaaa"
      ],
      "text/plain": [
       "<IPython.core.display.Markdown object>"
      ]
     },
     "metadata": {},
     "output_type": "display_data"
    },
    {
     "name": "stdout",
     "output_type": "stream",
     "text": [
      "-------------------------------------------\n"
     ]
    },
    {
     "data": {
      "text/markdown": [
       "> **model**: 🎺🎺🎺🎺 *And his name is... JOHN CENA!* 🎺🎺🎺🎺\n",
       "> \n",
       "> (I couldn't resist.  Is there anything I can do for you, John?)\n"
      ],
      "text/plain": [
       "<IPython.core.display.Markdown object>"
      ]
     },
     "metadata": {},
     "output_type": "display_data"
    },
    {
     "name": "stdout",
     "output_type": "stream",
     "text": [
      "-------------------------------------------\n"
     ]
    },
    {
     "data": {
      "text/markdown": [
       "> **user**: do you cloud tectaech to fight ?"
      ],
      "text/plain": [
       "<IPython.core.display.Markdown object>"
      ]
     },
     "metadata": {},
     "output_type": "display_data"
    },
    {
     "name": "stdout",
     "output_type": "stream",
     "text": [
      "-------------------------------------------\n"
     ]
    },
    {
     "data": {
      "text/markdown": [
       "> **model**: I don't \"cloud tectaech\" (I assume you mean cloud tech) to fight. I'm a language model, not a physical being.  I don't have a body, let alone the ability to fight.  I exist only as code and data on computers.  My purpose is to help people with information and tasks related to language, such as writing, translation, and answering questions.\n",
       "> \n",
       "> I can, however, access and process information about fighting techniques and strategies from the real world. I can tell you about different martial arts, military tactics, or even the history of boxing, if you're interested.  Just let me know what you'd like to learn about!\n"
      ],
      "text/plain": [
       "<IPython.core.display.Markdown object>"
      ]
     },
     "metadata": {},
     "output_type": "display_data"
    },
    {
     "name": "stdout",
     "output_type": "stream",
     "text": [
      "-------------------------------------------\n"
     ]
    },
    {
     "data": {
      "text/markdown": [
       "> **user**: I want to say teache to fight"
      ],
      "text/plain": [
       "<IPython.core.display.Markdown object>"
      ]
     },
     "metadata": {},
     "output_type": "display_data"
    },
    {
     "name": "stdout",
     "output_type": "stream",
     "text": [
      "-------------------------------------------\n"
     ]
    },
    {
     "data": {
      "text/markdown": [
       "> **model**: Ah, I understand!  Unfortunately, I can't *teach* you how to fight.  I can't give real-time feedback or physical instruction, which are essential for learning any fighting style.\n",
       "> \n",
       "> However, I can offer some resources that could help you get started:\n",
       "> \n",
       "> * **Look for local martial arts schools:**  Do some research online or ask around your community for reputable dojos or gyms.  Different martial arts styles offer different benefits, so consider what you're looking for (self-defense, fitness, competition, etc.).\n",
       "> * **Online resources:** There are many online tutorials and videos demonstrating various techniques.  However, be cautious about the quality and credibility of these resources.  It's always best to learn from a qualified instructor in person.\n",
       "> * **Books and articles:** You can find a wealth of information on fighting techniques and strategies in books and articles.  Look for reputable sources written by experts in the field.\n",
       "> \n",
       "> Learning to fight effectively requires dedication, discipline, and proper guidance.  Finding a qualified instructor is crucial for safe and effective training.  Good luck!\n"
      ],
      "text/plain": [
       "<IPython.core.display.Markdown object>"
      ]
     },
     "metadata": {},
     "output_type": "display_data"
    },
    {
     "name": "stdout",
     "output_type": "stream",
     "text": [
      "-------------------------------------------\n"
     ]
    }
   ],
   "source": [
    "#Melhorando a visualização\n",
    "#Código disponível em https://ai.google.dev/tutorials/python_quickstart#import_packages\n",
    "import textwrap\n",
    "from IPython.display import display\n",
    "from IPython.display import Markdown\n",
    "\n",
    "def to_markdown(text):\n",
    "  text = text.replace('•', '  *')\n",
    "  return Markdown(textwrap.indent(text, '> ', predicate=lambda _: True))\n",
    "\n",
    "#Imprimindo o histórico\n",
    "for message in chat.history:\n",
    "  display(to_markdown(f'**{message.role}**: {message.parts[0].text}'))\n",
    "  print('-------------------------------------------')"
   ]
  },
  {
   "cell_type": "markdown",
   "metadata": {},
   "source": [
    "### Chat Personalizado"
   ]
  },
  {
   "cell_type": "code",
   "execution_count": 25,
   "metadata": {},
   "outputs": [
    {
     "name": "stdout",
     "output_type": "stream",
     "text": [
      "parts {\n",
      "  text: \"Definir \\\"vida\\\" é uma questão complexa que tem desafiado cientistas e filósofos por séculos. Não há uma única definição universalmente aceita, mas podemos abordá-la de diferentes perspectivas:\\n\\n**Do ponto de vista biológico**, a vida é geralmente caracterizada por um conjunto de propriedades:\\n\\n* **Organização:** Os seres vivos são altamente organizados, desde o nível molecular até o nível de sistemas complexos.\\n* **Metabolismo:**  Capacidade de obter e usar energia do ambiente para manter-se, crescer e se reproduzir. Isso inclui processos como respiração, digestão e fotossíntese.\\n* **Crescimento:** Aumento no tamanho ou número de células.\\n* **Adaptação:** Capacidade de mudar ao longo do tempo em resposta a mudanças no ambiente, através de mecanismos como a evolução.\\n* **Resposta a estímulos:** Reação a mudanças no ambiente interno ou externo.\\n* **Reprodução:** Capacidade de gerar descendentes, transmitindo informações genéticas.\\n* **Homeostase:** Manutenção de um ambiente interno estável, apesar das mudanças no ambiente externo.\\n\\n\\n**Outras perspectivas sobre a vida:**\\n\\n* **Termodinâmica:** A vida pode ser vista como um sistema que mantém a ordem e a complexidade em um universo que tende à desordem (entropia).\\n* **Química:** A vida é baseada em moléculas de carbono e água, e envolve complexas reações químicas.\\n* **Filosofia:** A vida levanta questões sobre consciência, propósito e significado. Algumas correntes filosóficas exploram a ideia de uma \\\"força vital\\\" além da explicação científica.\\n* **Espiritualidade/Religião:** Muitas religiões e crenças espirituais oferecem suas próprias definições de vida, frequentemente envolvendo conceitos como alma, espírito e divindade.\\n\\n\\n**Desafios na definição de vida:**\\n\\n* **Vírus:**  Entidades biológicas que dependem de células hospedeiras para se reproduzir.  Eles exibem algumas características da vida, mas não todas, gerando debate sobre se são ou não seres vivos.\\n* **Vida artificial:**  A criação de sistemas artificiais que exibem características da vida levanta questões sobre o que realmente significa estar vivo.\\n* **Vida extraterrestre:** A busca por vida fora da Terra nos força a considerar a possibilidade de formas de vida radicalmente diferentes das que conhecemos, o que pode exigir uma definição mais ampla de vida.\\n\\n\\nEm resumo, enquanto a biologia nos fornece um conjunto de características para identificar a vida como a conhecemos, a definição precisa continua sendo um desafio em aberto,  dependendo da perspectiva adotada e sujeito a constante revisão conforme avançamos em nosso conhecimento.\\n\"\n",
      "}\n",
      "role: \"model\"\n",
      "\n"
     ]
    }
   ],
   "source": [
    "# teste para achar o texto e role do retorno do modelo\n",
    "chat2 = katron.start_chat(history=[])\n",
    "response1 = chat2.send_message(\"O que é a vida?\")\n",
    "print(response1.candidates[0].content)"
   ]
  },
  {
   "cell_type": "code",
   "execution_count": 7,
   "metadata": {},
   "outputs": [
    {
     "data": {
      "text/markdown": [
       "> **model**: It seems like you wrote \"Englihsh,\" which is a misspelling of **English**.  Is there something specific you'd like to know or do related to the English language?  For example, are you interested in:\n",
       "> \n",
       "> * **Grammar?**\n",
       "> * **Vocabulary?**\n",
       "> * **Pronunciation?**\n",
       "> * **Writing?**\n",
       "> * **Translation?**\n",
       "> * **Learning English?**\n",
       "> * **The history of the English language?**\n",
       "> \n",
       "> Please let me know!\n"
      ],
      "text/plain": [
       "<IPython.core.display.Markdown object>"
      ]
     },
     "metadata": {},
     "output_type": "display_data"
    },
    {
     "data": {
      "text/markdown": [
       "> **model**: Great! I can definitely help you with learning English.  To best assist you, I need a little more information about your current level and what you'd like to focus on.  For example:\n",
       "> \n",
       "> * **What is your native language?**  Knowing this helps me tailor explanations and examples.\n",
       "> * **What is your current English level?** (Beginner, intermediate, advanced)  This helps me understand what concepts you already grasp.\n",
       "> * **What are your goals for learning English?** (e.g., travel, work, study, general conversation) This helps me focus on the most relevant skills.\n",
       "> * **What aspects of English are you most interested in improving?** (e.g., speaking, listening, reading, writing, grammar, vocabulary)\n",
       "> \n",
       "> Once I have this information, I can suggest resources, provide exercises, and offer personalized guidance.  I can also help you with specific questions or topics you're struggling with.  Let me know!\n"
      ],
      "text/plain": [
       "<IPython.core.display.Markdown object>"
      ]
     },
     "metadata": {},
     "output_type": "display_data"
    }
   ],
   "source": [
    "import textwrap\n",
    "from IPython.display import display\n",
    "from IPython.display import Markdown\n",
    "\n",
    "def to_markdown(text):\n",
    "  text = text.replace('•', '  *')\n",
    "  return Markdown(textwrap.indent(text, '> ', predicate=lambda _: True))\n",
    "\n",
    "chat3 = katron.start_chat(history=[])\n",
    "\n",
    "prompt3 = input(\"O que vamos estudar hoje?\")\n",
    "\n",
    "while prompt3 != \"exit\":\n",
    "    response2 = chat3.send_message(prompt3)\n",
    "    display(to_markdown(f'**{response2.candidates[0].content.role}**: {response2.candidates[0].content.parts[0].text}'))\n",
    "    prompt3 = input(\"Anymore else?\")\n",
    "\n"
   ]
  },
  {
   "cell_type": "code",
   "execution_count": 8,
   "metadata": {},
   "outputs": [
    {
     "data": {
      "text/plain": [
       "[parts {\n",
       "   text: \"Englihsh\"\n",
       " }\n",
       " role: \"user\",\n",
       " parts {\n",
       "   text: \"It seems like you wrote \\\"Englihsh,\\\" which is a misspelling of **English**.  Is there something specific you\\'d like to know or do related to the English language?  For example, are you interested in:\\n\\n* **Grammar?**\\n* **Vocabulary?**\\n* **Pronunciation?**\\n* **Writing?**\\n* **Translation?**\\n* **Learning English?**\\n* **The history of the English language?**\\n\\nPlease let me know!\\n\"\n",
       " }\n",
       " role: \"model\",\n",
       " parts {\n",
       "   text: \"learning english\"\n",
       " }\n",
       " role: \"user\",\n",
       " parts {\n",
       "   text: \"Great! I can definitely help you with learning English.  To best assist you, I need a little more information about your current level and what you\\'d like to focus on.  For example:\\n\\n* **What is your native language?**  Knowing this helps me tailor explanations and examples.\\n* **What is your current English level?** (Beginner, intermediate, advanced)  This helps me understand what concepts you already grasp.\\n* **What are your goals for learning English?** (e.g., travel, work, study, general conversation) This helps me focus on the most relevant skills.\\n* **What aspects of English are you most interested in improving?** (e.g., speaking, listening, reading, writing, grammar, vocabulary)\\n\\nOnce I have this information, I can suggest resources, provide exercises, and offer personalized guidance.  I can also help you with specific questions or topics you\\'re struggling with.  Let me know!\\n\"\n",
       " }\n",
       " role: \"model\"]"
      ]
     },
     "execution_count": 8,
     "metadata": {},
     "output_type": "execute_result"
    }
   ],
   "source": [
    "chat3.history"
   ]
  },
  {
   "cell_type": "code",
   "execution_count": 29,
   "metadata": {},
   "outputs": [
    {
     "data": {
      "text/markdown": [
       "> **user**: continue english"
      ],
      "text/plain": [
       "<IPython.core.display.Markdown object>"
      ]
     },
     "metadata": {},
     "output_type": "display_data"
    },
    {
     "data": {
      "text/markdown": [
       "> **model**: Okay.  Let's continue our conversation about soccer.  Perhaps we can talk about other aspects of the sport.  What are your thoughts on the current state of Brazilian soccer, or international soccer in general?  Are there any other teams or leagues you follow?  Or perhaps you have a favorite player besides those we've already discussed?\n",
       "> \n",
       "> \n"
      ],
      "text/plain": [
       "<IPython.core.display.Markdown object>"
      ]
     },
     "metadata": {},
     "output_type": "display_data"
    }
   ],
   "source": [
    "## no começo ter uma tradução pra português e ver se o usuário realmente quer\n",
    "## que diferencie a conversa em inglês para quando o usuário pedir ajuda que não entendeu alguma palavra (explicar em inglês, mas perguntar em português se entendeu a explicação)\n",
    "\n",
    "prompt3 = input(\"O que vamos estudar hoje?\")\n",
    "\n",
    "while prompt3 != \"exit\":\n",
    "    display(to_markdown(f'**user**: {prompt3}'))\n",
    "    response2 = chat3.send_message(prompt3)\n",
    "    display(to_markdown(f'**{response2.candidates[0].content.role}**: {response2.candidates[0].content.parts[0].text}'))\n",
    "    prompt3 = input(\"Anymore else?\")"
   ]
  }
 ],
 "metadata": {
  "kernelspec": {
   "display_name": "AI_Google_Alura-W0T8AVgP",
   "language": "python",
   "name": "python3"
  },
  "language_info": {
   "codemirror_mode": {
    "name": "ipython",
    "version": 3
   },
   "file_extension": ".py",
   "mimetype": "text/x-python",
   "name": "python",
   "nbconvert_exporter": "python",
   "pygments_lexer": "ipython3",
   "version": "3.11.0"
  }
 },
 "nbformat": 4,
 "nbformat_minor": 2
}
